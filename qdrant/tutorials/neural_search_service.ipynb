{
 "cells": [
  {
   "cell_type": "code",
   "execution_count": 2,
   "metadata": {},
   "outputs": [],
   "source": [
    "###Prerequisites\n",
    "##To complete this tutorial, you will need:\n",
    "\n",
    "###Docker - The easiest way to use Qdrant is to run a pre-built Docker image.\n",
    "###Raw parsed data from startups-list.com.\n",
    "###Python version >=3.8"
   ]
  },
  {
   "cell_type": "code",
   "execution_count": 4,
   "metadata": {},
   "outputs": [
    {
     "name": "stdout",
     "output_type": "stream",
     "text": [
      "--2025-01-20 10:09:05--  https://storage.googleapis.com/generall-shared-data/startups_demo.json\n",
      "Resolving storage.googleapis.com (storage.googleapis.com)... 2404:6800:4007:816::201b, 2404:6800:4007:815::201b, 2404:6800:4007:818::201b, ...\n",
      "Connecting to storage.googleapis.com (storage.googleapis.com)|2404:6800:4007:816::201b|:443... connected.\n",
      "HTTP request sent, awaiting response... 200 OK\n",
      "Length: 22205751 (21M) [application/json]\n",
      "Saving to: ‘startups_demo.json’\n",
      "\n",
      "startups_demo.json  100%[===================>]  21.18M  5.93MB/s    in 3.6s    \n",
      "\n",
      "2025-01-20 10:09:10 (5.93 MB/s) - ‘startups_demo.json’ saved [22205751/22205751]\n",
      "\n"
     ]
    }
   ],
   "source": [
    "#download the dataset.\n",
    "!wget https://storage.googleapis.com/generall-shared-data/startups_demo.json"
   ]
  },
  {
   "cell_type": "code",
   "execution_count": 13,
   "metadata": {},
   "outputs": [
    {
     "data": {
      "text/plain": [
       "device(type='mps', index=0)"
      ]
     },
     "execution_count": 13,
     "metadata": {},
     "output_type": "execute_result"
    }
   ],
   "source": [
    "# pip install sentence-transformers numpy pandas tqdm\n",
    "from sentence_transformers import SentenceTransformer\n",
    "from tqdm.notebook import tqdm\n",
    "import pandas as pd\n",
    "import numpy as np\n",
    "import json\n",
    "\n",
    "# You will be using a pre-trained model called all-MiniLM-L6-v2. This is a performance-optimized sentence embedding model\n",
    "model = SentenceTransformer('all-MiniLM-L6-v2')\n",
    "model.device"
   ]
  },
  {
   "cell_type": "code",
   "execution_count": 17,
   "metadata": {},
   "outputs": [
    {
     "data": {
      "text/html": [
       "<div>\n",
       "<style scoped>\n",
       "    .dataframe tbody tr th:only-of-type {\n",
       "        vertical-align: middle;\n",
       "    }\n",
       "\n",
       "    .dataframe tbody tr th {\n",
       "        vertical-align: top;\n",
       "    }\n",
       "\n",
       "    .dataframe thead th {\n",
       "        text-align: right;\n",
       "    }\n",
       "</style>\n",
       "<table border=\"1\" class=\"dataframe\">\n",
       "  <thead>\n",
       "    <tr style=\"text-align: right;\">\n",
       "      <th></th>\n",
       "      <th>name</th>\n",
       "      <th>images</th>\n",
       "      <th>alt</th>\n",
       "      <th>description</th>\n",
       "      <th>link</th>\n",
       "      <th>city</th>\n",
       "    </tr>\n",
       "  </thead>\n",
       "  <tbody>\n",
       "    <tr>\n",
       "      <th>0</th>\n",
       "      <td>SaferCodes</td>\n",
       "      <td>https://safer.codes/img/brand/logo-icon.png</td>\n",
       "      <td>SaferCodes Logo QR codes generator system form...</td>\n",
       "      <td>QR codes systems for COVID-19.\\nSimple tools f...</td>\n",
       "      <td>https://safer.codes</td>\n",
       "      <td>Chicago</td>\n",
       "    </tr>\n",
       "    <tr>\n",
       "      <th>1</th>\n",
       "      <td>Human Practice</td>\n",
       "      <td>https://d1qb2nb5cznatu.cloudfront.net/startups...</td>\n",
       "      <td>Human Practice -  health care information tech...</td>\n",
       "      <td>Point-of-care word of mouth\\nPreferral is a mo...</td>\n",
       "      <td>http://humanpractice.com</td>\n",
       "      <td>Chicago</td>\n",
       "    </tr>\n",
       "    <tr>\n",
       "      <th>2</th>\n",
       "      <td>StyleSeek</td>\n",
       "      <td>https://d1qb2nb5cznatu.cloudfront.net/startups...</td>\n",
       "      <td>StyleSeek -  e-commerce fashion mass customiza...</td>\n",
       "      <td>Personalized e-commerce for lifestyle products...</td>\n",
       "      <td>http://styleseek.com</td>\n",
       "      <td>Chicago</td>\n",
       "    </tr>\n",
       "    <tr>\n",
       "      <th>3</th>\n",
       "      <td>Scout</td>\n",
       "      <td>https://d1qb2nb5cznatu.cloudfront.net/startups...</td>\n",
       "      <td>Scout -  security consumer electronics interne...</td>\n",
       "      <td>Hassle-free Home Security\\nScout is a self-ins...</td>\n",
       "      <td>http://www.scoutalarm.com</td>\n",
       "      <td>Chicago</td>\n",
       "    </tr>\n",
       "    <tr>\n",
       "      <th>4</th>\n",
       "      <td>Invitation codes</td>\n",
       "      <td>https://invitation.codes/img/inv-brand-fb3.png</td>\n",
       "      <td>Invitation App - Share referral codes community</td>\n",
       "      <td>The referral community\\nInvitation App is a so...</td>\n",
       "      <td>https://invitation.codes</td>\n",
       "      <td>Chicago</td>\n",
       "    </tr>\n",
       "    <tr>\n",
       "      <th>...</th>\n",
       "      <td>...</td>\n",
       "      <td>...</td>\n",
       "      <td>...</td>\n",
       "      <td>...</td>\n",
       "      <td>...</td>\n",
       "      <td>...</td>\n",
       "    </tr>\n",
       "    <tr>\n",
       "      <th>40469</th>\n",
       "      <td>Drunken Moose</td>\n",
       "      <td>https://d1qb2nb5cznatu.cloudfront.net/startups...</td>\n",
       "      <td>Drunken Moose -  digital media advertising des...</td>\n",
       "      <td>Branding and Marketing Consultancy Agency\\nHel...</td>\n",
       "      <td>http://www.drunkenmoose.com.au</td>\n",
       "      <td>Sydney</td>\n",
       "    </tr>\n",
       "    <tr>\n",
       "      <th>40470</th>\n",
       "      <td>AA Adonis Rubbish Removals</td>\n",
       "      <td>https://d1qb2nb5cznatu.cloudfront.net/startups...</td>\n",
       "      <td>AA Adonis Rubbish Removals -  cleaning</td>\n",
       "      <td>Rubbish Removals Sydney\\nAA Adonis Rubbish Rem...</td>\n",
       "      <td>http://www.aaadonisrubbishremovals.com.au/</td>\n",
       "      <td>Sydney</td>\n",
       "    </tr>\n",
       "    <tr>\n",
       "      <th>40471</th>\n",
       "      <td>QualityTrade</td>\n",
       "      <td>https://d1qb2nb5cznatu.cloudfront.net/startups...</td>\n",
       "      <td>QualityTrade -  B2B</td>\n",
       "      <td>Merit based wholesale trade platform. \\nQualit...</td>\n",
       "      <td>https://www.qualitytrade.com/</td>\n",
       "      <td>Sydney</td>\n",
       "    </tr>\n",
       "    <tr>\n",
       "      <th>40472</th>\n",
       "      <td>The Myer Family Company</td>\n",
       "      <td>https://d1qb2nb5cznatu.cloudfront.net/startups...</td>\n",
       "      <td>The Myer Family Company -</td>\n",
       "      <td>MFCo is a family office specialising in design...</td>\n",
       "      <td>http://www.mfco.com.au/</td>\n",
       "      <td>Sydney</td>\n",
       "    </tr>\n",
       "    <tr>\n",
       "      <th>40473</th>\n",
       "      <td>Harry Georje</td>\n",
       "      <td>https://d1qb2nb5cznatu.cloudfront.net/startups...</td>\n",
       "      <td>Harry Georje -  e-commerce jewelry Fine jewelry</td>\n",
       "      <td>Custom Made Jewelry Online!\\nHarry Georje Desi...</td>\n",
       "      <td>http://harrygeorjediamonds.com.au</td>\n",
       "      <td>Sydney</td>\n",
       "    </tr>\n",
       "  </tbody>\n",
       "</table>\n",
       "<p>40474 rows × 6 columns</p>\n",
       "</div>"
      ],
      "text/plain": [
       "                             name  \\\n",
       "0                      SaferCodes   \n",
       "1                  Human Practice   \n",
       "2                       StyleSeek   \n",
       "3                           Scout   \n",
       "4                Invitation codes   \n",
       "...                           ...   \n",
       "40469               Drunken Moose   \n",
       "40470  AA Adonis Rubbish Removals   \n",
       "40471                QualityTrade   \n",
       "40472     The Myer Family Company   \n",
       "40473                Harry Georje   \n",
       "\n",
       "                                                  images  \\\n",
       "0            https://safer.codes/img/brand/logo-icon.png   \n",
       "1      https://d1qb2nb5cznatu.cloudfront.net/startups...   \n",
       "2      https://d1qb2nb5cznatu.cloudfront.net/startups...   \n",
       "3      https://d1qb2nb5cznatu.cloudfront.net/startups...   \n",
       "4         https://invitation.codes/img/inv-brand-fb3.png   \n",
       "...                                                  ...   \n",
       "40469  https://d1qb2nb5cznatu.cloudfront.net/startups...   \n",
       "40470  https://d1qb2nb5cznatu.cloudfront.net/startups...   \n",
       "40471  https://d1qb2nb5cznatu.cloudfront.net/startups...   \n",
       "40472  https://d1qb2nb5cznatu.cloudfront.net/startups...   \n",
       "40473  https://d1qb2nb5cznatu.cloudfront.net/startups...   \n",
       "\n",
       "                                                     alt  \\\n",
       "0      SaferCodes Logo QR codes generator system form...   \n",
       "1      Human Practice -  health care information tech...   \n",
       "2      StyleSeek -  e-commerce fashion mass customiza...   \n",
       "3      Scout -  security consumer electronics interne...   \n",
       "4       Invitation App - Share referral codes community    \n",
       "...                                                  ...   \n",
       "40469  Drunken Moose -  digital media advertising des...   \n",
       "40470             AA Adonis Rubbish Removals -  cleaning   \n",
       "40471                                QualityTrade -  B2B   \n",
       "40472                         The Myer Family Company -    \n",
       "40473    Harry Georje -  e-commerce jewelry Fine jewelry   \n",
       "\n",
       "                                             description  \\\n",
       "0      QR codes systems for COVID-19.\\nSimple tools f...   \n",
       "1      Point-of-care word of mouth\\nPreferral is a mo...   \n",
       "2      Personalized e-commerce for lifestyle products...   \n",
       "3      Hassle-free Home Security\\nScout is a self-ins...   \n",
       "4      The referral community\\nInvitation App is a so...   \n",
       "...                                                  ...   \n",
       "40469  Branding and Marketing Consultancy Agency\\nHel...   \n",
       "40470  Rubbish Removals Sydney\\nAA Adonis Rubbish Rem...   \n",
       "40471  Merit based wholesale trade platform. \\nQualit...   \n",
       "40472  MFCo is a family office specialising in design...   \n",
       "40473  Custom Made Jewelry Online!\\nHarry Georje Desi...   \n",
       "\n",
       "                                             link     city  \n",
       "0                             https://safer.codes  Chicago  \n",
       "1                        http://humanpractice.com  Chicago  \n",
       "2                            http://styleseek.com  Chicago  \n",
       "3                       http://www.scoutalarm.com  Chicago  \n",
       "4                        https://invitation.codes  Chicago  \n",
       "...                                           ...      ...  \n",
       "40469              http://www.drunkenmoose.com.au   Sydney  \n",
       "40470  http://www.aaadonisrubbishremovals.com.au/   Sydney  \n",
       "40471               https://www.qualitytrade.com/   Sydney  \n",
       "40472                     http://www.mfco.com.au/   Sydney  \n",
       "40473           http://harrygeorjediamonds.com.au   Sydney  \n",
       "\n",
       "[40474 rows x 6 columns]"
      ]
     },
     "execution_count": 17,
     "metadata": {},
     "output_type": "execute_result"
    }
   ],
   "source": [
    "df = pd.read_json('startups_demo.json', lines=True)\n",
    "df"
   ]
  },
  {
   "cell_type": "code",
   "execution_count": 40,
   "metadata": {},
   "outputs": [
    {
     "data": {
      "application/vnd.jupyter.widget-view+json": {
       "model_id": "e49e9d921b6944ccb98bc505f8ec19df",
       "version_major": 2,
       "version_minor": 0
      },
      "text/plain": [
       "Batches:   0%|          | 0/1265 [00:00<?, ?it/s]"
      ]
     },
     "metadata": {},
     "output_type": "display_data"
    }
   ],
   "source": [
    "vectors = model.encode(\n",
    "    [row.alt + \". \" + row.description for row in df.itertuples()],\n",
    "    show_progress_bar=True,\n",
    ")"
   ]
  },
  {
   "cell_type": "code",
   "execution_count": 41,
   "metadata": {},
   "outputs": [
    {
     "data": {
      "text/plain": [
       "(40474, 384)"
      ]
     },
     "execution_count": 41,
     "metadata": {},
     "output_type": "execute_result"
    }
   ],
   "source": [
    "vectors.shape\n",
    "# > (40474, 384)"
   ]
  },
  {
   "cell_type": "code",
   "execution_count": 42,
   "metadata": {},
   "outputs": [],
   "source": [
    "np.save(\"startup_vectors.npy\", vectors, allow_pickle=False)\n",
    "\n"
   ]
  },
  {
   "cell_type": "code",
   "execution_count": 43,
   "metadata": {},
   "outputs": [],
   "source": [
    "# Import client library\n",
    "from qdrant_client import QdrantClient\n",
    "from qdrant_client.models import VectorParams, Distance\n",
    "\n",
    "client = QdrantClient(\"http://localhost:6333\")"
   ]
  },
  {
   "cell_type": "code",
   "execution_count": 44,
   "metadata": {},
   "outputs": [],
   "source": [
    "if not client.collection_exists(\"startups\"):\n",
    "    client.create_collection(\n",
    "        collection_name=\"startups\",\n",
    "        vectors_config=VectorParams(size=384, distance=Distance.COSINE),\n",
    "    )"
   ]
  },
  {
   "cell_type": "code",
   "execution_count": 45,
   "metadata": {},
   "outputs": [],
   "source": [
    "fd = open(\"./startups_demo.json\")\n",
    "\n",
    "# payload is now an iterator over startup data\n",
    "payload = map(json.loads, fd)\n",
    "\n",
    "# Load all vectors into memory, numpy array works as iterable for itself.\n",
    "# Other option would be to use Mmap, if you don't want to load all data into RAM\n",
    "vectors = np.load(\"./startup_vectors.npy\")"
   ]
  },
  {
   "cell_type": "code",
   "execution_count": 46,
   "metadata": {},
   "outputs": [],
   "source": [
    "client.upload_collection(\n",
    "    collection_name=\"startups\",\n",
    "    vectors=vectors,\n",
    "    payload=payload,\n",
    "    ids=None,  # Vector ids will be assigned automatically\n",
    "    batch_size=256,  # How many vectors will be uploaded in a single request?\n",
    ")"
   ]
  },
  {
   "cell_type": "code",
   "execution_count": null,
   "metadata": {},
   "outputs": [],
   "source": []
  }
 ],
 "metadata": {
  "kernelspec": {
   "display_name": "testenv",
   "language": "python",
   "name": "python3"
  },
  "language_info": {
   "codemirror_mode": {
    "name": "ipython",
    "version": 3
   },
   "file_extension": ".py",
   "mimetype": "text/x-python",
   "name": "python",
   "nbconvert_exporter": "python",
   "pygments_lexer": "ipython3",
   "version": "3.11.5"
  },
  "orig_nbformat": 4
 },
 "nbformat": 4,
 "nbformat_minor": 2
}

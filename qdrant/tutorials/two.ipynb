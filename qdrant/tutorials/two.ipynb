{
 "cells": [
  {
   "cell_type": "code",
   "execution_count": 4,
   "metadata": {},
   "outputs": [],
   "source": [
    "from sentence_transformers import SentenceTransformer\n",
    "import pandas as pd"
   ]
  },
  {
   "cell_type": "code",
   "execution_count": 11,
   "metadata": {},
   "outputs": [
    {
     "data": {
      "text/html": [
       "<div>\n",
       "<style scoped>\n",
       "    .dataframe tbody tr th:only-of-type {\n",
       "        vertical-align: middle;\n",
       "    }\n",
       "\n",
       "    .dataframe tbody tr th {\n",
       "        vertical-align: top;\n",
       "    }\n",
       "\n",
       "    .dataframe thead th {\n",
       "        text-align: right;\n",
       "    }\n",
       "</style>\n",
       "<table border=\"1\" class=\"dataframe\">\n",
       "  <thead>\n",
       "    <tr style=\"text-align: right;\">\n",
       "      <th></th>\n",
       "      <th>name</th>\n",
       "      <th>images</th>\n",
       "      <th>alt</th>\n",
       "      <th>description</th>\n",
       "      <th>link</th>\n",
       "      <th>city</th>\n",
       "    </tr>\n",
       "  </thead>\n",
       "  <tbody>\n",
       "    <tr>\n",
       "      <th>0</th>\n",
       "      <td>SaferCodes</td>\n",
       "      <td>https://safer.codes/img/brand/logo-icon.png</td>\n",
       "      <td>SaferCodes Logo QR codes generator system form...</td>\n",
       "      <td>QR codes systems for COVID-19.\\nSimple tools f...</td>\n",
       "      <td>https://safer.codes</td>\n",
       "      <td>Chicago</td>\n",
       "    </tr>\n",
       "    <tr>\n",
       "      <th>1</th>\n",
       "      <td>Human Practice</td>\n",
       "      <td>https://d1qb2nb5cznatu.cloudfront.net/startups...</td>\n",
       "      <td>Human Practice -  health care information tech...</td>\n",
       "      <td>Point-of-care word of mouth\\nPreferral is a mo...</td>\n",
       "      <td>http://humanpractice.com</td>\n",
       "      <td>Chicago</td>\n",
       "    </tr>\n",
       "    <tr>\n",
       "      <th>2</th>\n",
       "      <td>StyleSeek</td>\n",
       "      <td>https://d1qb2nb5cznatu.cloudfront.net/startups...</td>\n",
       "      <td>StyleSeek -  e-commerce fashion mass customiza...</td>\n",
       "      <td>Personalized e-commerce for lifestyle products...</td>\n",
       "      <td>http://styleseek.com</td>\n",
       "      <td>Chicago</td>\n",
       "    </tr>\n",
       "    <tr>\n",
       "      <th>3</th>\n",
       "      <td>Scout</td>\n",
       "      <td>https://d1qb2nb5cznatu.cloudfront.net/startups...</td>\n",
       "      <td>Scout -  security consumer electronics interne...</td>\n",
       "      <td>Hassle-free Home Security\\nScout is a self-ins...</td>\n",
       "      <td>http://www.scoutalarm.com</td>\n",
       "      <td>Chicago</td>\n",
       "    </tr>\n",
       "    <tr>\n",
       "      <th>4</th>\n",
       "      <td>Invitation codes</td>\n",
       "      <td>https://invitation.codes/img/inv-brand-fb3.png</td>\n",
       "      <td>Invitation App - Share referral codes community</td>\n",
       "      <td>The referral community\\nInvitation App is a so...</td>\n",
       "      <td>https://invitation.codes</td>\n",
       "      <td>Chicago</td>\n",
       "    </tr>\n",
       "  </tbody>\n",
       "</table>\n",
       "</div>"
      ],
      "text/plain": [
       "               name                                             images  \\\n",
       "0        SaferCodes        https://safer.codes/img/brand/logo-icon.png   \n",
       "1    Human Practice  https://d1qb2nb5cznatu.cloudfront.net/startups...   \n",
       "2         StyleSeek  https://d1qb2nb5cznatu.cloudfront.net/startups...   \n",
       "3             Scout  https://d1qb2nb5cznatu.cloudfront.net/startups...   \n",
       "4  Invitation codes     https://invitation.codes/img/inv-brand-fb3.png   \n",
       "\n",
       "                                                 alt  \\\n",
       "0  SaferCodes Logo QR codes generator system form...   \n",
       "1  Human Practice -  health care information tech...   \n",
       "2  StyleSeek -  e-commerce fashion mass customiza...   \n",
       "3  Scout -  security consumer electronics interne...   \n",
       "4   Invitation App - Share referral codes community    \n",
       "\n",
       "                                         description  \\\n",
       "0  QR codes systems for COVID-19.\\nSimple tools f...   \n",
       "1  Point-of-care word of mouth\\nPreferral is a mo...   \n",
       "2  Personalized e-commerce for lifestyle products...   \n",
       "3  Hassle-free Home Security\\nScout is a self-ins...   \n",
       "4  The referral community\\nInvitation App is a so...   \n",
       "\n",
       "                        link     city  \n",
       "0        https://safer.codes  Chicago  \n",
       "1   http://humanpractice.com  Chicago  \n",
       "2       http://styleseek.com  Chicago  \n",
       "3  http://www.scoutalarm.com  Chicago  \n",
       "4   https://invitation.codes  Chicago  "
      ]
     },
     "execution_count": 11,
     "metadata": {},
     "output_type": "execute_result"
    }
   ],
   "source": [
    "df = pd.read_json('./startups_demo.json', lines=True)\n",
    "\n",
    "df.head()"
   ]
  },
  {
   "cell_type": "code",
   "execution_count": 12,
   "metadata": {},
   "outputs": [
    {
     "name": "stdout",
     "output_type": "stream",
     "text": [
      "name\n",
      "images\n",
      "alt\n",
      "description\n",
      "link\n",
      "city\n"
     ]
    }
   ],
   "source": [
    "# "
   ]
  },
  {
   "cell_type": "code",
   "execution_count": null,
   "metadata": {},
   "outputs": [],
   "source": []
  },
  {
   "cell_type": "code",
   "execution_count": null,
   "metadata": {},
   "outputs": [],
   "source": []
  }
 ],
 "metadata": {
  "kernelspec": {
   "display_name": "venv-vectordb",
   "language": "python",
   "name": "python3"
  },
  "language_info": {
   "codemirror_mode": {
    "name": "ipython",
    "version": 3
   },
   "file_extension": ".py",
   "mimetype": "text/x-python",
   "name": "python",
   "nbconvert_exporter": "python",
   "pygments_lexer": "ipython3",
   "version": "3.12.8"
  }
 },
 "nbformat": 4,
 "nbformat_minor": 2
}
